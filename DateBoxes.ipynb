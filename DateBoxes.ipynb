{
 "cells": [
  {
   "cell_type": "code",
   "execution_count": 21,
   "metadata": {},
   "outputs": [],
   "source": [
    "class genericField:\n",
    "  def __init__(self, bbox=(0, 0, 0, 0),fieldType=None):\n",
    "    self.fieldType=fieldType\n",
    "    self.BoundingBox = {\n",
    "            \"Left\": bbox[0],  \n",
    "            \"Top\": bbox[1], \n",
    "            \"Width\": bbox[2],\n",
    "            \"Height\": bbox[3]\n",
    "            }\n",
    "  def __str__(self):\n",
    "    return str(self._dict_)\n",
    "  def __repr__(self):\n",
    "    return self._str_()\n",
    "\n",
    "class dateField(genericField):\n",
    "  def __init__(self, bbox=(0, 0, 0, 0)):\n",
    "    super(dateField, self).__init__(bbox,\"date\")\n",
    "    self.date={\n",
    "        \"subFields\" : 0,       #3 for dd/mm/yyyy\n",
    "        \"side\" : 0,\n",
    "        \"count\" : []          #[2,2,4] for dd/mm/yyyy\n",
    "    }\n",
    "\n",
    "class blocksField(genericField):\n",
    "  def __init__(self,bbox=(0, 0, 0, 0)):\n",
    "    super(blocksField, self).__init__(bbox,\"blocksField\")\n",
    "    self.blocks={\n",
    "        \"side\":0, # side length of each block\n",
    "        \"count\":0 # number of blocks\n",
    "    }"
   ]
  },
  {
   "cell_type": "code",
   "execution_count": 22,
   "metadata": {},
   "outputs": [
    {
     "data": {
      "text/plain": [
       "-1"
      ]
     },
     "execution_count": 22,
     "metadata": {},
     "output_type": "execute_result"
    }
   ],
   "source": [
    "import cv2\n",
    "import numpy as np\n",
    "from PIL import Image\n",
    "        \n",
    "img1 = cv2.imread('formexample6.png')\n",
    "img = cv2.cvtColor(img1,cv2.COLOR_BGR2GRAY)\n",
    "img = cv2.GaussianBlur(img,(1,3),0)\n",
    "img_bin,ab = cv2.threshold(img,220,255,cv2.THRESH_BINARY )\n",
    "cv2.imwrite(\"Thresholded_img.jpg\",ab)\n",
    "binary_map = 255-ab\n",
    "\n",
    "nlabels, labels, stats, centroids = cv2.connectedComponentsWithStats(binary_map, None, None, None, 4, cv2.CV_32S)\n",
    "areas = stats[1:,cv2.CC_STAT_AREA]\n",
    "result = np.zeros((labels.shape), np.uint8)\n",
    "for i in range(0, nlabels - 1):\n",
    "    if areas[i] >= 190:   #keep\n",
    "        result[labels == i + 1] = 255\n",
    "\n",
    "#cv2.imshow(\"Binary\", binary_map)\n",
    "result = 255-result\n",
    "cv2.imwrite(\"Thresholded_img.jpg\",result)\n",
    "img_bin,result = cv2.threshold(result,244,255,cv2.THRESH_BINARY )\n",
    "kernel = np.ones((3, 3), np.uint8)   \n",
    "result = cv2.erode(result, kernel,iterations = 5) \n",
    "result = cv2.GaussianBlur(result,(3,3),0)\n",
    "cv2.imwrite(\"Image_bin_new.jpg\",result)\n",
    "boxes = list()\n",
    "contours, hierarchy = cv2.findContours(result, cv2.RETR_TREE, cv2.CHAIN_APPROX_SIMPLE)\n",
    "for c in contours:\n",
    "        x, y, w, h = cv2.boundingRect(c)\n",
    "        if h<30 and abs(w-h)<6 and w>18.5 and h>18 and w<30:\n",
    "          new_img = img[y:y+h, x:x+w]\n",
    "          cv2.rectangle(img1, (x, y), (x+w, y+h), (255, 0, 0), 1)\n",
    "          ob = blocksField((x,y,w,h))\n",
    "          boxes.append(ob)\n",
    "cv2.imwrite(\"RESULT1.jpg\",img1)\n",
    "cv2.imshow(\"IMAGE\",img1)\n",
    "cv2.waitKey(0)"
   ]
  },
  {
   "cell_type": "code",
   "execution_count": null,
   "metadata": {},
   "outputs": [],
   "source": []
  }
 ],
 "metadata": {
  "kernelspec": {
   "display_name": "Python 3",
   "language": "python",
   "name": "python3"
  },
  "language_info": {
   "codemirror_mode": {
    "name": "ipython",
    "version": 3
   },
   "file_extension": ".py",
   "mimetype": "text/x-python",
   "name": "python",
   "nbconvert_exporter": "python",
   "pygments_lexer": "ipython3",
   "version": "3.7.3"
  }
 },
 "nbformat": 4,
 "nbformat_minor": 2
}
