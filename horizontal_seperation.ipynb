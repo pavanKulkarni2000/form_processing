{
 "cells": [
  {
   "cell_type": "code",
   "execution_count": 74,
   "metadata": {},
   "outputs": [],
   "source": [
    "import cv2\n",
    "import numpy as np"
   ]
  },
  {
   "cell_type": "code",
   "execution_count": 75,
   "metadata": {},
   "outputs": [
    {
     "data": {
      "text/plain": [
       "True"
      ]
     },
     "execution_count": 75,
     "metadata": {},
     "output_type": "execute_result"
    }
   ],
   "source": [
    "#I have taken OTSU as input\n",
    "img1 = cv2.imread('input.jpg')\n",
    "img = cv2.cvtColor(img1,cv2.COLOR_BGR2GRAY)\n",
    "\n",
    "img = cv2.GaussianBlur(img,(3,3),0)\n",
    "ret3,img2 = cv2.threshold(img,150,255,cv2.THRESH_BINARY)\n",
    "\n",
    "kernel = cv2.getStructuringElement(cv2.MORPH_RECT, (1,5))\n",
    "ab = cv2.erode(img2, kernel, iterations = 1)\n",
    "\n",
    "\n",
    "kernel = cv2.getStructuringElement(cv2.MORPH_RECT, (9,1))\n",
    "ab = cv2.erode(ab, kernel, iterations = 9)\n",
    "\n",
    "ab = 255 - ab\n",
    "\n",
    "cv2.imwrite(\"i1.jpg\", ab)"
   ]
  },
  {
   "cell_type": "code",
   "execution_count": 76,
   "metadata": {},
   "outputs": [
    {
     "data": {
      "text/plain": [
       "True"
      ]
     },
     "execution_count": 76,
     "metadata": {},
     "output_type": "execute_result"
    }
   ],
   "source": [
    "horizontal = np.copy(ab)\n",
    "# Specify size on horizontal axis\n",
    "cols = horizontal.shape[1]\n",
    "horizontal_size = cols*2 \n",
    "# Create structure element for extracting horizontal lines through morphology operations\n",
    "horizontalStructure = cv2.getStructuringElement(cv2.MORPH_RECT, (horizontal_size, 1))\n",
    "    # Apply morphology operations\n",
    "horizontal = cv2.erode(horizontal, horizontalStructure)\n",
    "horizontal = cv2.dilate(horizontal, horizontalStructure)\n",
    "\n",
    "# Show extracted horizontal lines\n",
    "kernel = cv2.getStructuringElement(cv2.MORPH_RECT, (1,5))\n",
    "horizontal = cv2.dilate(horizontal, kernel, iterations = 1)\n",
    "cv2.imwrite(\"i2.jpg\", horizontal)"
   ]
  },
  {
   "cell_type": "code",
   "execution_count": 77,
   "metadata": {},
   "outputs": [],
   "source": [
    "#top = int(0.05 * horizontal.shape[0])  # shape[0] = rows\n",
    "#bottom = top\n",
    "#left = int(0.05 * horizontal.shape[1])  # shape[1] = cols\n",
    "#right = left\n",
    "#dst = cv2.copyMakeBorder(horizontal, top, bottom, left, right, cv2.BORDER_CONSTANT, None, 255)\n",
    "#cv2.imwrite(\"i2.jpg\", 255 - dst)        "
   ]
  },
  {
   "cell_type": "code",
   "execution_count": 78,
   "metadata": {},
   "outputs": [
    {
     "data": {
      "text/plain": [
       "True"
      ]
     },
     "execution_count": 78,
     "metadata": {},
     "output_type": "execute_result"
    }
   ],
   "source": [
    "#dst = 255 - dst\n",
    "img4 = cv2.imread('formexample6.png')\n",
    "contours, hierarchy = cv2.findContours(255-horizontal, cv2.RETR_TREE, cv2.CHAIN_APPROX_SIMPLE)\n",
    "img2 = np.copy(img1)\n",
    "count = 0\n",
    "boxes = list()\n",
    "for c in contours:\n",
    "        x, y, w, h = cv2.boundingRect(c)\n",
    "        if  w>15 and h>15 and w>h:\n",
    "          cv2.rectangle(img4, (x, y), (x+w, y+h), (0, 0, 255), 2)\n",
    "cv2.imwrite(\"i3.jpg\",img4)"
   ]
  },
  {
   "cell_type": "code",
   "execution_count": null,
   "metadata": {},
   "outputs": [],
   "source": []
  }
 ],
 "metadata": {
  "kernelspec": {
   "display_name": "Python 3",
   "language": "python",
   "name": "python3"
  },
  "language_info": {
   "codemirror_mode": {
    "name": "ipython",
    "version": 3
   },
   "file_extension": ".py",
   "mimetype": "text/x-python",
   "name": "python",
   "nbconvert_exporter": "python",
   "pygments_lexer": "ipython3",
   "version": "3.7.3"
  }
 },
 "nbformat": 4,
 "nbformat_minor": 2
}
