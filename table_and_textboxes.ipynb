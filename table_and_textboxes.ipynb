{
 "cells": [
  {
   "cell_type": "code",
   "execution_count": 43,
   "metadata": {},
   "outputs": [],
   "source": [
    "import numpy as np\n",
    "import cv2\n",
    "\n",
    "class Table:\n",
    "    def __init__(self, bbox = (0,0,0,0), rows = 0, cols = 0, cells = None):\n",
    "        self.bbox = bbox\n",
    "        self.rows = rows\n",
    "        self.cols = cols\n",
    "        self.cells = cells\n",
    "    def disp_table(self):\n",
    "        print(\"No. of ROWS: {}\".format(self.rows))\n",
    "        print(\"No. of COLUMNS: {}\".format(self.cols))\n",
    "        print(\"No. of Cells: {}\".format(len(self.cells)))\n",
    "        print(\"Table Width: {}\".format(self.bbox[2]))\n",
    "        print(\"Table Height: {}\".format(self.bbox[3]))\n",
    "        print(\"\\n\\n\")\n",
    "\n",
    "class TextBox:\n",
    "    def __init__(self, bbox=(0,0,0,0)):\n",
    "        self.bbox = bbox\n",
    "    def disp_textbox(self):\n",
    "        x,y,w,h = self.bbox\n",
    "        print(\"x = \",x)\n",
    "        print(\"y = \",y)\n",
    "        print(\"w = \",w)\n",
    "        print(\"h = \",h)\n",
    "        print(\"\\n\\n\")"
   ]
  },
  {
   "cell_type": "code",
   "execution_count": 58,
   "metadata": {},
   "outputs": [],
   "source": [
    "img1 = cv2.imread('emp_form.jpg')\n",
    "img = cv2.cvtColor(img1,cv2.COLOR_BGR2GRAY)\n",
    "img_bin,ab1 = cv2.threshold(img, 150, 255, cv2.THRESH_BINARY)\n",
    "img_bin,ab2 = cv2.threshold(img, 244, 255, cv2.THRESH_BINARY)\n",
    "ab = cv2.addWeighted(ab1, 0.6, ab2, 0.4, 0.0)\n",
    "cv2.imwrite(\"RESULT2.jpg\", ab)\n",
    "ab = cv2.bitwise_not(ab)"
   ]
  },
  {
   "cell_type": "code",
   "execution_count": 59,
   "metadata": {},
   "outputs": [
    {
     "data": {
      "text/plain": [
       "True"
      ]
     },
     "execution_count": 59,
     "metadata": {},
     "output_type": "execute_result"
    }
   ],
   "source": [
    "horizontal = np.copy(ab)\n",
    "# Specify size on horizontal axis\n",
    "cols = horizontal.shape[1]\n",
    "horizontal_size = cols // 30\n",
    "# Create structure element for extracting horizontal lines through morphology operations\n",
    "horizontalStructure = cv2.getStructuringElement(cv2.MORPH_RECT, (horizontal_size, 1))\n",
    "    # Apply morphology operations\n",
    "horizontal = cv2.erode(horizontal, horizontalStructure)\n",
    "horizontal = cv2.dilate(horizontal, horizontalStructure)\n",
    "\n",
    "# Show extracted horizontal lines\n",
    "cv2.imwrite(\"RESULT3.jpg\",horizontal)"
   ]
  },
  {
   "cell_type": "code",
   "execution_count": 60,
   "metadata": {},
   "outputs": [
    {
     "data": {
      "text/plain": [
       "True"
      ]
     },
     "execution_count": 60,
     "metadata": {},
     "output_type": "execute_result"
    }
   ],
   "source": [
    "vertical = np.copy(ab)\n",
    "# Specify size on vertical axis\n",
    "rows = vertical.shape[0]\n",
    "verticalsize = rows // 100\n",
    "    # Create structure element for extracting vertical lines through morphology operations\n",
    "verticalStructure = cv2.getStructuringElement(cv2.MORPH_RECT, (1, verticalsize))\n",
    "    # Apply morphology operations\n",
    "vertical = cv2.erode(vertical, verticalStructure)\n",
    "vertical = cv2.dilate(vertical, verticalStructure)\n",
    "ch = vertical | horizontal\n",
    "#ch = cv2.bitwise_not(ch)\n",
    "cv2.imwrite(\"RESULT3.jpg\",ch)"
   ]
  },
  {
   "cell_type": "code",
   "execution_count": 61,
   "metadata": {},
   "outputs": [
    {
     "name": "stdout",
     "output_type": "stream",
     "text": [
      "39\n",
      "(10, 94, 718, 238)\n",
      "[(10, 94, 718, 238), (11, 117, 716, 212), (10, 508, 718, 206), (11, 509, 716, 203), (10, 333, 718, 116), (10, 745, 718, 103), (10, 859, 718, 27), (583, 818, 144, 27), (372, 818, 211, 27), (225, 818, 146, 27), (11, 818, 214, 27), (583, 790, 144, 27), (372, 790, 211, 27), (225, 790, 146, 27), (11, 790, 214, 27), (583, 763, 144, 26), (372, 763, 211, 26), (225, 763, 146, 26), (11, 763, 214, 26), (10, 718, 718, 26), (10, 483, 718, 24), (645, 424, 82, 23), (529, 424, 115, 23), (225, 424, 189, 23), (415, 424, 114, 22), (11, 424, 214, 22), (645, 402, 82, 22), (529, 402, 115, 22), (415, 402, 114, 22), (225, 402, 189, 22), (11, 402, 214, 22), (645, 380, 82, 21), (529, 380, 115, 21), (415, 380, 114, 21), (225, 380, 189, 21), (11, 380, 214, 21), (10, 966, 40, 17), (10, 925, 40, 17), (10, 898, 42, 17)]\n"
     ]
    },
    {
     "data": {
      "text/plain": [
       "-1"
      ]
     },
     "execution_count": 61,
     "metadata": {},
     "output_type": "execute_result"
    }
   ],
   "source": [
    "contours, hierarchy = cv2.findContours(ch, cv2.RETR_TREE, cv2.CHAIN_APPROX_SIMPLE)\n",
    "img2 = np.copy(img1)\n",
    "count = 0\n",
    "boxes = list()\n",
    "for c in contours:\n",
    "        x, y, w, h = cv2.boundingRect(c)\n",
    "        if  w>15 and h>15 and h<img2.shape[0]:\n",
    "          cv2.rectangle(img2, (x, y), (x+w, y+h), (0,0, 255), 2)\n",
    "          count+=1\n",
    "          boxes.append((x,y,w,h))\n",
    "print(count)\n",
    "print(max(boxes, key = lambda x:x[3]))\n",
    "boxes.sort(key = lambda x: x[3], reverse = True)\n",
    "print(boxes)\n",
    "cv2.imwrite(\"RESULT4.jpg\",img2)\n",
    "cv2.imshow(\"IMAGE\",img2)\n",
    "cv2.waitKey(0)"
   ]
  },
  {
   "cell_type": "code",
   "execution_count": 62,
   "metadata": {},
   "outputs": [
    {
     "name": "stdout",
     "output_type": "stream",
     "text": [
      "TABLE  1\n",
      "No. of ROWS: 1\n",
      "No. of COLUMNS: 1\n",
      "No. of Cells: 1\n",
      "Table Width: 718\n",
      "Table Height: 238\n",
      "\n",
      "\n",
      "\n",
      "TABLE  2\n",
      "No. of ROWS: 1\n",
      "No. of COLUMNS: 1\n",
      "No. of Cells: 1\n",
      "Table Width: 718\n",
      "Table Height: 206\n",
      "\n",
      "\n",
      "\n",
      "TABLE  3\n",
      "No. of ROWS: 3\n",
      "No. of COLUMNS: 5\n",
      "No. of Cells: 15\n",
      "Table Width: 718\n",
      "Table Height: 116\n",
      "\n",
      "\n",
      "\n",
      "TABLE  4\n",
      "No. of ROWS: 3\n",
      "No. of COLUMNS: 4\n",
      "No. of Cells: 12\n",
      "Table Width: 718\n",
      "Table Height: 103\n",
      "\n",
      "\n",
      "\n"
     ]
    }
   ],
   "source": [
    "def form_tables(boxes):\n",
    "    k = 0\n",
    "    i = 0\n",
    "    tables = list()\n",
    "    tot = len(boxes)\n",
    "    while i < len(boxes):\n",
    "        x,y,w,h = boxes[i][0:4]\n",
    "        k += 1\n",
    "        j = k\n",
    "        temp = list()\n",
    "        while j < len(boxes):\n",
    "            if boxes[j][0] <= x+w  and boxes[j][1] <= y+h and x < boxes[j][0]  and y < boxes[j][1]  :\n",
    "                temp.append(boxes[j])\n",
    "                boxes.remove(boxes[j])\n",
    "            else:    \n",
    "                j += 1\n",
    "        if len(temp) == 0:\n",
    "            i += 1\n",
    "            continue\n",
    "        temp.sort(key = lambda z: z[0])\n",
    "        #print(temp)\n",
    "        cols = 1\n",
    "        for u in range(len(temp)-1):\n",
    "            if abs(temp[u][0] - temp[u+1][0]) <= 3:\n",
    "                pass\n",
    "            else:\n",
    "                cols += 1\n",
    "        temp.sort(key = lambda z: z[1])\n",
    "        rows = 1\n",
    "        for u in range(len(temp)-1):\n",
    "            if abs(temp[u][1] - temp[u+1][1]) <= 3:\n",
    "                pass\n",
    "            else:\n",
    "                rows += 1\n",
    "        t = Table((x,y,w,h), rows, cols, temp)\n",
    "        tables.append(t)\n",
    "        i += 1\n",
    "    return tables, boxes\n",
    "            \n",
    "\n",
    "#tables stores objects of Table class\n",
    "\n",
    "temp_boxes  = boxes.copy()\n",
    "tables, temp_boxes = form_tables(temp_boxes)\n",
    "\n",
    "if len(tables)==0:\n",
    "    print(\"No TABLES\")\n",
    "for i in range(len(tables)):\n",
    "    print(\"TABLE \", i+1)\n",
    "    tables[i].disp_table()\n",
    "        "
   ]
  },
  {
   "cell_type": "code",
   "execution_count": 63,
   "metadata": {},
   "outputs": [
    {
     "name": "stdout",
     "output_type": "stream",
     "text": [
      "[(10, 859, 718, 27), (10, 718, 718, 26), (10, 483, 718, 24), (10, 966, 40, 17), (10, 925, 40, 17), (10, 898, 42, 17)]\n"
     ]
    }
   ],
   "source": [
    "for i in range(len(tables)):\n",
    "    if tables[i].bbox in temp_boxes:\n",
    "        temp_boxes.remove(tables[i].bbox)\n",
    "TEXT_BOXES = temp_boxes.copy()\n",
    "print(TEXT_BOXES)\n",
    "#TEXT_BOXS stores text boxes"
   ]
  },
  {
   "cell_type": "code",
   "execution_count": 64,
   "metadata": {},
   "outputs": [
    {
     "data": {
      "text/plain": [
       "True"
      ]
     },
     "execution_count": 64,
     "metadata": {},
     "output_type": "execute_result"
    }
   ],
   "source": [
    "#text boxes\n",
    "img3 = img2\n",
    "for i in TEXT_BOXES:\n",
    "    x,y,w,h = i[0:4]\n",
    "    cv2.rectangle(img3, (x, y), (x+w, y+h), (255, 0, 0), 3)\n",
    "cv2.imwrite(\"RESULT4.jpg\", img3)"
   ]
  },
  {
   "cell_type": "code",
   "execution_count": 65,
   "metadata": {},
   "outputs": [
    {
     "name": "stdout",
     "output_type": "stream",
     "text": [
      "x =  10\n",
      "y =  859\n",
      "w =  718\n",
      "h =  27\n",
      "\n",
      "\n",
      "\n",
      "x =  10\n",
      "y =  718\n",
      "w =  718\n",
      "h =  26\n",
      "\n",
      "\n",
      "\n",
      "x =  10\n",
      "y =  483\n",
      "w =  718\n",
      "h =  24\n",
      "\n",
      "\n",
      "\n",
      "x =  10\n",
      "y =  966\n",
      "w =  40\n",
      "h =  17\n",
      "\n",
      "\n",
      "\n",
      "x =  10\n",
      "y =  925\n",
      "w =  40\n",
      "h =  17\n",
      "\n",
      "\n",
      "\n",
      "x =  10\n",
      "y =  898\n",
      "w =  42\n",
      "h =  17\n",
      "\n",
      "\n",
      "\n"
     ]
    }
   ],
   "source": [
    "text_boxes = [TextBox(x) for x in TEXT_BOXES]\n",
    "for i in range(len(text_boxes)):\n",
    "    text_boxes[i].disp_textbox()\n",
    "    \n",
    "### in RESULT4.jpg blue boxes represent text boxes and red are tables\n",
    "### 2 text boxs are identified as tables thats the error, but in ur code they get identified as sections so with that  \n",
    "### there should be no errors at all"
   ]
  },
  {
   "cell_type": "code",
   "execution_count": null,
   "metadata": {},
   "outputs": [],
   "source": []
  }
 ],
 "metadata": {
  "kernelspec": {
   "display_name": "Python 3",
   "language": "python",
   "name": "python3"
  },
  "language_info": {
   "codemirror_mode": {
    "name": "ipython",
    "version": 3
   },
   "file_extension": ".py",
   "mimetype": "text/x-python",
   "name": "python",
   "nbconvert_exporter": "python",
   "pygments_lexer": "ipython3",
   "version": "3.7.3"
  }
 },
 "nbformat": 4,
 "nbformat_minor": 2
}
