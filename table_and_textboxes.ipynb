{
 "cells": [
  {
   "cell_type": "code",
   "execution_count": 156,
   "metadata": {},
   "outputs": [],
   "source": [
    "import numpy as np\n",
    "import cv2\n",
    "\n",
    "class Table:\n",
    "    def __init__(self, bbox = (0,0,0,0), rows = 0, cols = 0, cells = None):\n",
    "        self.bbox = bbox\n",
    "        self.rows = rows\n",
    "        self.cols = cols\n",
    "        self.cells = cells\n",
    "    def disp_table(self):\n",
    "        print(\"No. of ROWS: {}\".format(self.rows))\n",
    "        print(\"No. of COLUMNS: {}\".format(self.cols))\n",
    "        print(\"No. of Cells: {}\".format(len(self.cells)))\n",
    "        print(\"Table Width: {}\".format(self.bbox[2]))\n",
    "        print(\"Table Height: {}\".format(self.bbox[3]))\n",
    "        print(\"\\n\\n\")\n",
    "\n",
    "class TextBox:\n",
    "    def __init__(self, bbox=(0,0,0,0)):\n",
    "        self.bbox = bbox\n",
    "    def disp_textbox(self):\n",
    "        x,y,w,h = self.bbox\n",
    "        print(\"x = \",x)\n",
    "        print(\"y = \",y)\n",
    "        print(\"w = \",w)\n",
    "        print(\"h = \",h)\n",
    "        print(\"\\n\\n\")"
   ]
  },
  {
   "cell_type": "code",
   "execution_count": 176,
   "metadata": {},
   "outputs": [
    {
     "data": {
      "text/plain": [
       "True"
      ]
     },
     "execution_count": 176,
     "metadata": {},
     "output_type": "execute_result"
    }
   ],
   "source": [
    "img1 = cv2.imread('formexample6.png')\n",
    "img = cv2.cvtColor(img1,cv2.COLOR_BGR2GRAY)\n",
    "img = cv2.bitwise_not(img)\n",
    "img_bin,ab = cv2.threshold(img, 11, 255, cv2.THRESH_BINARY)\n",
    "cv2.imwrite(\"RESULT2.jpg\",ab)"
   ]
  },
  {
   "cell_type": "code",
   "execution_count": 177,
   "metadata": {},
   "outputs": [
    {
     "data": {
      "text/plain": [
       "True"
      ]
     },
     "execution_count": 177,
     "metadata": {},
     "output_type": "execute_result"
    }
   ],
   "source": [
    "horizontal = np.copy(ab)\n",
    "# Specify size on horizontal axis\n",
    "cols = horizontal.shape[1]\n",
    "horizontal_size = cols // 30\n",
    "# Create structure element for extracting horizontal lines through morphology operations\n",
    "horizontalStructure = cv2.getStructuringElement(cv2.MORPH_RECT, (horizontal_size, 1))\n",
    "    # Apply morphology operations\n",
    "horizontal = cv2.erode(horizontal, horizontalStructure)\n",
    "horizontal = cv2.dilate(horizontal, horizontalStructure)\n",
    "# Show extracted horizontal lines\n",
    "cv2.imwrite(\"RESULT3.jpg\",horizontal)"
   ]
  },
  {
   "cell_type": "code",
   "execution_count": 178,
   "metadata": {},
   "outputs": [
    {
     "data": {
      "text/plain": [
       "True"
      ]
     },
     "execution_count": 178,
     "metadata": {},
     "output_type": "execute_result"
    }
   ],
   "source": [
    "vertical = np.copy(ab)\n",
    "# Specify size on vertical axis\n",
    "rows = vertical.shape[0]\n",
    "verticalsize = rows // 100\n",
    "    # Create structure element for extracting vertical lines through morphology operations\n",
    "verticalStructure = cv2.getStructuringElement(cv2.MORPH_RECT, (1, verticalsize))\n",
    "    # Apply morphology operations\n",
    "vertical = cv2.erode(vertical, verticalStructure)\n",
    "vertical = cv2.dilate(vertical, verticalStructure)\n",
    "ch = vertical | horizontal\n",
    "ch = cv2.bitwise_not(ch)\n",
    "cv2.imwrite(\"RESULT3.jpg\",ch)"
   ]
  },
  {
   "cell_type": "code",
   "execution_count": 179,
   "metadata": {},
   "outputs": [
    {
     "name": "stdout",
     "output_type": "stream",
     "text": [
      "26\n",
      "(33, 199, 313, 33)\n",
      "[(33, 199, 313, 33), (33, 1242, 1066, 31), (439, 932, 660, 31), (261, 932, 165, 31), (33, 932, 214, 31), (558, 571, 433, 31), (79, 571, 436, 31), (311, 489, 678, 31), (278, 431, 711, 31), (33, 142, 1068, 31), (566, 1047, 345, 29), (35, 1047, 378, 29), (450, 255, 124, 29), (377, 255, 61, 29), (273, 255, 92, 29), (724, 202, 124, 29), (566, 990, 408, 28), (35, 990, 346, 28), (442, 843, 409, 28), (35, 843, 346, 28), (653, 203, 61, 28), (583, 203, 60, 28), (48, 34, 40, 25), (1077, 614, 22, 21), (944, 1368, 136, 18), (899, 1315, 184, 17)]\n"
     ]
    },
    {
     "data": {
      "text/plain": [
       "-1"
      ]
     },
     "execution_count": 179,
     "metadata": {},
     "output_type": "execute_result"
    }
   ],
   "source": [
    "contours, hierarchy = cv2.findContours(ch, cv2.RETR_TREE, cv2.CHAIN_APPROX_SIMPLE)\n",
    "img2 = np.copy(img1)\n",
    "count = 0\n",
    "boxes = list()\n",
    "for c in contours:\n",
    "        x, y, w, h = cv2.boundingRect(c)\n",
    "        if w < img2.shape[1] - 60  and w>15 and h>15 and h<img2.shape[0]:\n",
    "          cv2.rectangle(img2, (x, y), (x+w, y+h), (0, 0, 255), 1)\n",
    "          count+=1\n",
    "          boxes.append((x,y,w,h))\n",
    "print(count)\n",
    "print(max(boxes, key = lambda x:x[3]))\n",
    "boxes.sort(key = lambda x: x[3], reverse = True)\n",
    "print(boxes)\n",
    "cv2.imwrite(\"RESULT4.jpg\",img2)\n",
    "cv2.imshow(\"IMAGE\",img2)\n",
    "cv2.waitKey(0)"
   ]
  },
  {
   "cell_type": "code",
   "execution_count": 180,
   "metadata": {},
   "outputs": [],
   "source": [
    "def form_tables(boxes):\n",
    "    k = 0\n",
    "    i = 0\n",
    "    tables = list()\n",
    "    tot = len(boxes)\n",
    "    while i < len(boxes):\n",
    "        x,y,w,h = boxes[i][0:4]\n",
    "        k += 1\n",
    "        j = k\n",
    "        temp = list()\n",
    "        while j < len(boxes):\n",
    "            if boxes[j][0] <= x+w  and boxes[j][1] <= y+h and x < boxes[j][0]  and y < boxes[j][1]  :\n",
    "                temp.append(boxes[j])\n",
    "                boxes.remove(boxes[j])\n",
    "            else:    \n",
    "                j += 1\n",
    "        if len(temp) == 0:\n",
    "            i += 1\n",
    "            continue\n",
    "        temp.sort(key = lambda z: z[0])\n",
    "        #print(temp)\n",
    "        cols = 1\n",
    "        for u in range(len(temp)-1):\n",
    "            if abs(temp[u][0] - temp[u+1][0]) <= 3:\n",
    "                pass\n",
    "            else:\n",
    "                cols += 1\n",
    "        temp.sort(key = lambda z: z[1])\n",
    "        rows = 1\n",
    "        for u in range(len(temp)-1):\n",
    "            if abs(temp[u][1] - temp[u+1][1]) <= 3:\n",
    "                pass\n",
    "            else:\n",
    "                rows += 1\n",
    "        t = Table((x,y,w,h), rows, cols, temp)\n",
    "        tables.append(t)\n",
    "        i += 1\n",
    "    return tables, boxes\n",
    "            \n",
    "\n",
    "#tables stores objects of Table class\n",
    "\n",
    "temp_boxes  = boxes.copy()\n",
    "tables, temp_boxes = form_tables(temp_boxes)\n",
    "for i in range(len(tables)):\n",
    "    print(\"TABLE \", i+1)\n",
    "    tables[i].disp_table()\n",
    "        "
   ]
  },
  {
   "cell_type": "code",
   "execution_count": 181,
   "metadata": {},
   "outputs": [
    {
     "name": "stdout",
     "output_type": "stream",
     "text": [
      "[(33, 199, 313, 33), (33, 1242, 1066, 31), (439, 932, 660, 31), (261, 932, 165, 31), (33, 932, 214, 31), (558, 571, 433, 31), (79, 571, 436, 31), (311, 489, 678, 31), (278, 431, 711, 31), (33, 142, 1068, 31), (566, 1047, 345, 29), (35, 1047, 378, 29), (450, 255, 124, 29), (377, 255, 61, 29), (273, 255, 92, 29), (724, 202, 124, 29), (566, 990, 408, 28), (35, 990, 346, 28), (442, 843, 409, 28), (35, 843, 346, 28), (653, 203, 61, 28), (583, 203, 60, 28), (48, 34, 40, 25), (1077, 614, 22, 21), (944, 1368, 136, 18), (899, 1315, 184, 17)]\n"
     ]
    }
   ],
   "source": [
    "for i in range(len(tables)):\n",
    "    if tables[i].bbox in temp_boxes:\n",
    "        temp_boxes.remove(tables[i].bbox)\n",
    "TEXT_BOXES = temp_boxes.copy()\n",
    "print(TEXT_BOXES)\n",
    "#TEXT_BOXS stores text boxes"
   ]
  },
  {
   "cell_type": "code",
   "execution_count": 182,
   "metadata": {},
   "outputs": [
    {
     "data": {
      "text/plain": [
       "True"
      ]
     },
     "execution_count": 182,
     "metadata": {},
     "output_type": "execute_result"
    }
   ],
   "source": [
    "#text boxes\n",
    "img3 = img2\n",
    "for i in TEXT_BOXES:\n",
    "    x,y,w,h = i[0:4]\n",
    "    cv2.rectangle(img3, (x, y), (x+w, y+h), (255, 0, 0), 3)\n",
    "cv2.imwrite(\"RESULT4.jpg\", img3)"
   ]
  },
  {
   "cell_type": "code",
   "execution_count": 183,
   "metadata": {},
   "outputs": [
    {
     "name": "stdout",
     "output_type": "stream",
     "text": [
      "x =  33\n",
      "y =  199\n",
      "w =  313\n",
      "h =  33\n",
      "\n",
      "\n",
      "\n",
      "x =  33\n",
      "y =  1242\n",
      "w =  1066\n",
      "h =  31\n",
      "\n",
      "\n",
      "\n",
      "x =  439\n",
      "y =  932\n",
      "w =  660\n",
      "h =  31\n",
      "\n",
      "\n",
      "\n",
      "x =  261\n",
      "y =  932\n",
      "w =  165\n",
      "h =  31\n",
      "\n",
      "\n",
      "\n",
      "x =  33\n",
      "y =  932\n",
      "w =  214\n",
      "h =  31\n",
      "\n",
      "\n",
      "\n",
      "x =  558\n",
      "y =  571\n",
      "w =  433\n",
      "h =  31\n",
      "\n",
      "\n",
      "\n",
      "x =  79\n",
      "y =  571\n",
      "w =  436\n",
      "h =  31\n",
      "\n",
      "\n",
      "\n",
      "x =  311\n",
      "y =  489\n",
      "w =  678\n",
      "h =  31\n",
      "\n",
      "\n",
      "\n",
      "x =  278\n",
      "y =  431\n",
      "w =  711\n",
      "h =  31\n",
      "\n",
      "\n",
      "\n",
      "x =  33\n",
      "y =  142\n",
      "w =  1068\n",
      "h =  31\n",
      "\n",
      "\n",
      "\n",
      "x =  566\n",
      "y =  1047\n",
      "w =  345\n",
      "h =  29\n",
      "\n",
      "\n",
      "\n",
      "x =  35\n",
      "y =  1047\n",
      "w =  378\n",
      "h =  29\n",
      "\n",
      "\n",
      "\n",
      "x =  450\n",
      "y =  255\n",
      "w =  124\n",
      "h =  29\n",
      "\n",
      "\n",
      "\n",
      "x =  377\n",
      "y =  255\n",
      "w =  61\n",
      "h =  29\n",
      "\n",
      "\n",
      "\n",
      "x =  273\n",
      "y =  255\n",
      "w =  92\n",
      "h =  29\n",
      "\n",
      "\n",
      "\n",
      "x =  724\n",
      "y =  202\n",
      "w =  124\n",
      "h =  29\n",
      "\n",
      "\n",
      "\n",
      "x =  566\n",
      "y =  990\n",
      "w =  408\n",
      "h =  28\n",
      "\n",
      "\n",
      "\n",
      "x =  35\n",
      "y =  990\n",
      "w =  346\n",
      "h =  28\n",
      "\n",
      "\n",
      "\n",
      "x =  442\n",
      "y =  843\n",
      "w =  409\n",
      "h =  28\n",
      "\n",
      "\n",
      "\n",
      "x =  35\n",
      "y =  843\n",
      "w =  346\n",
      "h =  28\n",
      "\n",
      "\n",
      "\n",
      "x =  653\n",
      "y =  203\n",
      "w =  61\n",
      "h =  28\n",
      "\n",
      "\n",
      "\n",
      "x =  583\n",
      "y =  203\n",
      "w =  60\n",
      "h =  28\n",
      "\n",
      "\n",
      "\n",
      "x =  48\n",
      "y =  34\n",
      "w =  40\n",
      "h =  25\n",
      "\n",
      "\n",
      "\n",
      "x =  1077\n",
      "y =  614\n",
      "w =  22\n",
      "h =  21\n",
      "\n",
      "\n",
      "\n",
      "x =  944\n",
      "y =  1368\n",
      "w =  136\n",
      "h =  18\n",
      "\n",
      "\n",
      "\n",
      "x =  899\n",
      "y =  1315\n",
      "w =  184\n",
      "h =  17\n",
      "\n",
      "\n",
      "\n"
     ]
    }
   ],
   "source": [
    "text_boxes = [TextBox(x) for x in TEXT_BOXES]\n",
    "for i in range(len(text_boxes)):\n",
    "    text_boxes[i].disp_textbox()"
   ]
  },
  {
   "cell_type": "code",
   "execution_count": null,
   "metadata": {},
   "outputs": [],
   "source": []
  }
 ],
 "metadata": {
  "kernelspec": {
   "display_name": "Python 3",
   "language": "python",
   "name": "python3"
  },
  "language_info": {
   "codemirror_mode": {
    "name": "ipython",
    "version": 3
   },
   "file_extension": ".py",
   "mimetype": "text/x-python",
   "name": "python",
   "nbconvert_exporter": "python",
   "pygments_lexer": "ipython3",
   "version": "3.7.3"
  }
 },
 "nbformat": 4,
 "nbformat_minor": 2
}
